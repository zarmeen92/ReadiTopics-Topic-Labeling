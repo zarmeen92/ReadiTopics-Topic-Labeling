{
 "cells": [
  {
   "cell_type": "code",
   "execution_count": 1,
   "metadata": {},
   "outputs": [],
   "source": [
    "import pandas as pd\n",
    "import numpy as np"
   ]
  },
  {
   "cell_type": "code",
   "execution_count": null,
   "metadata": {},
   "outputs": [],
   "source": []
  },
  {
   "cell_type": "code",
   "execution_count": 86,
   "metadata": {},
   "outputs": [],
   "source": [
    "dataset = pd.read_csv('samreen.csv',sep='\\t')"
   ]
  },
  {
   "cell_type": "code",
   "execution_count": 87,
   "metadata": {},
   "outputs": [
    {
     "data": {
      "text/html": [
       "<div>\n",
       "<style scoped>\n",
       "    .dataframe tbody tr th:only-of-type {\n",
       "        vertical-align: middle;\n",
       "    }\n",
       "\n",
       "    .dataframe tbody tr th {\n",
       "        vertical-align: top;\n",
       "    }\n",
       "\n",
       "    .dataframe thead th {\n",
       "        text-align: right;\n",
       "    }\n",
       "</style>\n",
       "<table border=\"1\" class=\"dataframe\">\n",
       "  <thead>\n",
       "    <tr style=\"text-align: right;\">\n",
       "      <th></th>\n",
       "      <th>Cluster</th>\n",
       "      <th>Zero-Order</th>\n",
       "      <th>M-Order</th>\n",
       "      <th>T-Order</th>\n",
       "      <th>ProposedMethod</th>\n",
       "    </tr>\n",
       "  </thead>\n",
       "  <tbody>\n",
       "    <tr>\n",
       "      <th>0</th>\n",
       "      <td>0</td>\n",
       "      <td>0;1;0</td>\n",
       "      <td>1;2;1</td>\n",
       "      <td>0;1;0</td>\n",
       "      <td>3;3;3</td>\n",
       "    </tr>\n",
       "    <tr>\n",
       "      <th>1</th>\n",
       "      <td>1</td>\n",
       "      <td>3;3;3</td>\n",
       "      <td>3;3;3</td>\n",
       "      <td>3;3;3</td>\n",
       "      <td>3;3;3</td>\n",
       "    </tr>\n",
       "    <tr>\n",
       "      <th>2</th>\n",
       "      <td>2</td>\n",
       "      <td>0;1;0</td>\n",
       "      <td>0;0;1</td>\n",
       "      <td>0;0;1</td>\n",
       "      <td>2;3;2</td>\n",
       "    </tr>\n",
       "    <tr>\n",
       "      <th>3</th>\n",
       "      <td>3</td>\n",
       "      <td>1;1;0</td>\n",
       "      <td>0;0;0</td>\n",
       "      <td>0;0;0</td>\n",
       "      <td>1;2;3</td>\n",
       "    </tr>\n",
       "    <tr>\n",
       "      <th>4</th>\n",
       "      <td>4</td>\n",
       "      <td>0;0;0</td>\n",
       "      <td>0;0;0</td>\n",
       "      <td>0;0;0</td>\n",
       "      <td>2;3;2</td>\n",
       "    </tr>\n",
       "    <tr>\n",
       "      <th>5</th>\n",
       "      <td>5</td>\n",
       "      <td>3;1;0</td>\n",
       "      <td>3;1;0</td>\n",
       "      <td>3;1;0</td>\n",
       "      <td>2;3;2</td>\n",
       "    </tr>\n",
       "    <tr>\n",
       "      <th>6</th>\n",
       "      <td>6</td>\n",
       "      <td>2;0;1</td>\n",
       "      <td>1;0;1</td>\n",
       "      <td>1;0;1</td>\n",
       "      <td>3;0;2</td>\n",
       "    </tr>\n",
       "    <tr>\n",
       "      <th>7</th>\n",
       "      <td>7</td>\n",
       "      <td>3;3;3</td>\n",
       "      <td>1;2;1</td>\n",
       "      <td>3;3;3</td>\n",
       "      <td>3;3;3</td>\n",
       "    </tr>\n",
       "    <tr>\n",
       "      <th>8</th>\n",
       "      <td>8</td>\n",
       "      <td>2;2;1</td>\n",
       "      <td>0;0;0</td>\n",
       "      <td>0;0;0</td>\n",
       "      <td>2;3;2</td>\n",
       "    </tr>\n",
       "    <tr>\n",
       "      <th>9</th>\n",
       "      <td>9</td>\n",
       "      <td>1;2;1</td>\n",
       "      <td>1;2;1</td>\n",
       "      <td>1;2;1</td>\n",
       "      <td>2;3;2</td>\n",
       "    </tr>\n",
       "    <tr>\n",
       "      <th>10</th>\n",
       "      <td>10</td>\n",
       "      <td>0;1;1</td>\n",
       "      <td>1;1;0</td>\n",
       "      <td>1;1;0</td>\n",
       "      <td>2;3;3</td>\n",
       "    </tr>\n",
       "    <tr>\n",
       "      <th>11</th>\n",
       "      <td>11</td>\n",
       "      <td>1;0;0</td>\n",
       "      <td>1;0;0</td>\n",
       "      <td>1;0;0</td>\n",
       "      <td>3;2;3</td>\n",
       "    </tr>\n",
       "    <tr>\n",
       "      <th>12</th>\n",
       "      <td>12</td>\n",
       "      <td>0;0;0</td>\n",
       "      <td>0;0;0</td>\n",
       "      <td>0;0;0</td>\n",
       "      <td>2;1;3</td>\n",
       "    </tr>\n",
       "  </tbody>\n",
       "</table>\n",
       "</div>"
      ],
      "text/plain": [
       "    Cluster Zero-Order M-Order T-Order ProposedMethod\n",
       "0         0      0;1;0   1;2;1   0;1;0          3;3;3\n",
       "1         1      3;3;3   3;3;3   3;3;3          3;3;3\n",
       "2         2      0;1;0   0;0;1   0;0;1          2;3;2\n",
       "3         3      1;1;0   0;0;0   0;0;0          1;2;3\n",
       "4         4      0;0;0   0;0;0   0;0;0          2;3;2\n",
       "5         5      3;1;0   3;1;0   3;1;0          2;3;2\n",
       "6         6      2;0;1   1;0;1   1;0;1          3;0;2\n",
       "7         7      3;3;3   1;2;1   3;3;3          3;3;3\n",
       "8         8      2;2;1   0;0;0   0;0;0          2;3;2\n",
       "9         9      1;2;1   1;2;1   1;2;1          2;3;2\n",
       "10       10      0;1;1   1;1;0   1;1;0          2;3;3\n",
       "11       11      1;0;0   1;0;0   1;0;0          3;2;3\n",
       "12       12      0;0;0   0;0;0   0;0;0          2;1;3"
      ]
     },
     "execution_count": 87,
     "metadata": {},
     "output_type": "execute_result"
    }
   ],
   "source": [
    "dataset"
   ]
  },
  {
   "cell_type": "code",
   "execution_count": 88,
   "metadata": {},
   "outputs": [],
   "source": [
    "def get_total_score(text):\n",
    "    score = text.split(';')\n",
    "    score = [int(i) for i in score]\n",
    "    print(score)\n",
    "    return np.sum(score)\n",
    "def get_completeness_score(text):\n",
    "    score = text.split(';')\n",
    "    score = [int(i) for i in score]\n",
    "    \n",
    "    return score[0]\n",
    "def get_relevance_score(text):\n",
    "    score = text.split(';')\n",
    "    score = [int(i) for i in score]\n",
    "    return score[1]\n",
    "def get_correctness_score(text):\n",
    "    score = text.split(';')\n",
    "    score = [int(i) for i in score]\n",
    "    return score[2]"
   ]
  },
  {
   "cell_type": "code",
   "execution_count": 89,
   "metadata": {},
   "outputs": [],
   "source": [
    "dataset['Zero-Completeness'] = dataset['Zero-Order'].apply(get_completeness_score)"
   ]
  },
  {
   "cell_type": "code",
   "execution_count": 90,
   "metadata": {},
   "outputs": [],
   "source": [
    "dataset['Zero-Relevance'] = dataset['Zero-Order'].apply(get_relevance_score)\n",
    "dataset['Zero-Correctness'] = dataset['Zero-Order'].apply(get_correctness_score)"
   ]
  },
  {
   "cell_type": "code",
   "execution_count": 91,
   "metadata": {},
   "outputs": [],
   "source": [
    "dataset['M-Completeness'] = dataset['M-Order'].apply(get_completeness_score)\n",
    "dataset['M-Relevance'] = dataset['M-Order'].apply(get_relevance_score)\n",
    "dataset['M-Correctness'] = dataset['M-Order'].apply(get_correctness_score)\n",
    "\n",
    "dataset['T-Completeness'] = dataset['T-Order'].apply(get_completeness_score)\n",
    "dataset['T-Relevance'] = dataset['T-Order'].apply(get_relevance_score)\n",
    "dataset['T-Correctness'] = dataset['T-Order'].apply(get_correctness_score)\n",
    "\n",
    "dataset['P-Completeness'] = dataset['ProposedMethod'].apply(get_completeness_score)\n",
    "dataset['P-Relevance'] = dataset['ProposedMethod'].apply(get_relevance_score)\n",
    "dataset['P-Correctness'] = dataset['ProposedMethod'].apply(get_correctness_score)"
   ]
  },
  {
   "cell_type": "code",
   "execution_count": 92,
   "metadata": {},
   "outputs": [
    {
     "name": "stdout",
     "output_type": "stream",
     "text": [
      "1.23\n",
      "0.92\n",
      "1.0\n",
      "2.31\n",
      "1.15\n",
      "0.85\n",
      "0.85\n",
      "2.46\n",
      "0.77\n",
      "0.62\n",
      "0.69\n",
      "2.54\n"
     ]
    }
   ],
   "source": [
    "print(np.round(np.average(dataset['Zero-Completeness']),2))\n",
    "print(np.round(np.average(dataset['M-Completeness']),2))\n",
    "print(np.round(np.average(dataset['T-Completeness']),2))\n",
    "print(np.round(np.average(dataset['P-Completeness']),2))\n",
    "\n",
    "print(np.round(np.average(dataset['Zero-Relevance']),2))\n",
    "print(np.round(np.average(dataset['M-Relevance']),2))\n",
    "print(np.round(np.average(dataset['T-Relevance']),2))\n",
    "print(np.round(np.average(dataset['P-Relevance']),2))\n",
    "\n",
    "print(np.round(np.average(dataset['Zero-Correctness']),2))\n",
    "print(np.round(np.average(dataset['M-Correctness']),2))\n",
    "print(np.round(np.average(dataset['T-Correctness']),2))\n",
    "print(np.round(np.average(dataset['P-Correctness']),2))\n"
   ]
  },
  {
   "cell_type": "code",
   "execution_count": 93,
   "metadata": {},
   "outputs": [],
   "source": [
    "dataset['Total_Z'] = dataset['Zero-Completeness']+dataset['Zero-Relevance']+dataset['Zero-Correctness']"
   ]
  },
  {
   "cell_type": "code",
   "execution_count": 94,
   "metadata": {},
   "outputs": [],
   "source": [
    "dataset['Total_M'] = dataset['M-Completeness']+dataset['M-Relevance']+dataset['M-Correctness']\n",
    "dataset['Total_T'] = dataset['T-Completeness']+dataset['T-Relevance']+dataset['T-Correctness']\n",
    "dataset['Total_P'] = dataset['P-Completeness']+dataset['P-Relevance']+dataset['P-Correctness']"
   ]
  },
  {
   "cell_type": "code",
   "execution_count": 95,
   "metadata": {},
   "outputs": [
    {
     "name": "stdout",
     "output_type": "stream",
     "text": [
      "3.15\n",
      "2.38\n",
      "2.54\n",
      "7.31\n"
     ]
    }
   ],
   "source": [
    "print(np.round(np.average(dataset['Total_Z']),2))\n",
    "print(np.round(np.average(dataset['Total_M']),2))\n",
    "print(np.round(np.average(dataset['Total_T']),2))\n",
    "print(np.round(np.average(dataset['Total_P']),2))\n"
   ]
  },
  {
   "cell_type": "code",
   "execution_count": null,
   "metadata": {},
   "outputs": [],
   "source": []
  }
 ],
 "metadata": {
  "kernelspec": {
   "display_name": "Python 3",
   "language": "python",
   "name": "python3"
  },
  "language_info": {
   "codemirror_mode": {
    "name": "ipython",
    "version": 3
   },
   "file_extension": ".py",
   "mimetype": "text/x-python",
   "name": "python",
   "nbconvert_exporter": "python",
   "pygments_lexer": "ipython3",
   "version": "3.6.6"
  }
 },
 "nbformat": 4,
 "nbformat_minor": 2
}
