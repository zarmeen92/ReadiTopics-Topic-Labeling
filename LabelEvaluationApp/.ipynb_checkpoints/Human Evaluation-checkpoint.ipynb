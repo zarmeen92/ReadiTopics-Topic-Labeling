{
 "cells": [
  {
   "cell_type": "code",
   "execution_count": 6,
   "metadata": {},
   "outputs": [],
   "source": [
    "import pandas as pd\n",
    "import numpy as np"
   ]
  },
  {
   "cell_type": "code",
   "execution_count": null,
   "metadata": {},
   "outputs": [],
   "source": []
  },
  {
   "cell_type": "code",
   "execution_count": 2,
   "metadata": {},
   "outputs": [],
   "source": [
    "dataset = pd.read_csv('fdf60fc1-c627-4def-bd09-4ac919e44406.csv',sep='\\t')"
   ]
  },
  {
   "cell_type": "code",
   "execution_count": 3,
   "metadata": {},
   "outputs": [
    {
     "data": {
      "text/html": [
       "<div>\n",
       "<style scoped>\n",
       "    .dataframe tbody tr th:only-of-type {\n",
       "        vertical-align: middle;\n",
       "    }\n",
       "\n",
       "    .dataframe tbody tr th {\n",
       "        vertical-align: top;\n",
       "    }\n",
       "\n",
       "    .dataframe thead th {\n",
       "        text-align: right;\n",
       "    }\n",
       "</style>\n",
       "<table border=\"1\" class=\"dataframe\">\n",
       "  <thead>\n",
       "    <tr style=\"text-align: right;\">\n",
       "      <th></th>\n",
       "      <th>Cluster</th>\n",
       "      <th>Zero-Order</th>\n",
       "      <th>M-Order</th>\n",
       "      <th>T-Order</th>\n",
       "      <th>ProposedMethod</th>\n",
       "    </tr>\n",
       "  </thead>\n",
       "  <tbody>\n",
       "    <tr>\n",
       "      <th>0</th>\n",
       "      <td>0</td>\n",
       "      <td>1;3;3</td>\n",
       "      <td>3;3;3</td>\n",
       "      <td>3;3;3</td>\n",
       "      <td>1;3;3</td>\n",
       "    </tr>\n",
       "    <tr>\n",
       "      <th>1</th>\n",
       "      <td>1</td>\n",
       "      <td>3;3;3</td>\n",
       "      <td>3;3;3</td>\n",
       "      <td>3;3;3</td>\n",
       "      <td>3;1;3</td>\n",
       "    </tr>\n",
       "    <tr>\n",
       "      <th>2</th>\n",
       "      <td>2</td>\n",
       "      <td>3;3;3</td>\n",
       "      <td>3;3;3</td>\n",
       "      <td>3;3;3</td>\n",
       "      <td>3;3;3</td>\n",
       "    </tr>\n",
       "    <tr>\n",
       "      <th>3</th>\n",
       "      <td>3</td>\n",
       "      <td>1;3;3</td>\n",
       "      <td>3;3;3</td>\n",
       "      <td>3;3;3</td>\n",
       "      <td>3;3;3</td>\n",
       "    </tr>\n",
       "    <tr>\n",
       "      <th>4</th>\n",
       "      <td>4</td>\n",
       "      <td>3;3;3</td>\n",
       "      <td>3;3;3</td>\n",
       "      <td>3;3;3</td>\n",
       "      <td>3;3;3</td>\n",
       "    </tr>\n",
       "    <tr>\n",
       "      <th>5</th>\n",
       "      <td>5</td>\n",
       "      <td>3;3;3</td>\n",
       "      <td>3;3;3</td>\n",
       "      <td>3;3;3</td>\n",
       "      <td>3;3;3</td>\n",
       "    </tr>\n",
       "    <tr>\n",
       "      <th>6</th>\n",
       "      <td>6</td>\n",
       "      <td>3;3;3</td>\n",
       "      <td>3;3;3</td>\n",
       "      <td>3;3;3</td>\n",
       "      <td>3;3;3</td>\n",
       "    </tr>\n",
       "    <tr>\n",
       "      <th>7</th>\n",
       "      <td>7</td>\n",
       "      <td>3;3;3</td>\n",
       "      <td>3;3;3</td>\n",
       "      <td>3;3;3</td>\n",
       "      <td>3;3;3</td>\n",
       "    </tr>\n",
       "    <tr>\n",
       "      <th>8</th>\n",
       "      <td>8</td>\n",
       "      <td>3;3;3</td>\n",
       "      <td>3;3;3</td>\n",
       "      <td>3;3;3</td>\n",
       "      <td>3;3;3</td>\n",
       "    </tr>\n",
       "    <tr>\n",
       "      <th>9</th>\n",
       "      <td>9</td>\n",
       "      <td>3;3;3</td>\n",
       "      <td>3;3;3</td>\n",
       "      <td>3;3;3</td>\n",
       "      <td>3;3;3</td>\n",
       "    </tr>\n",
       "    <tr>\n",
       "      <th>10</th>\n",
       "      <td>10</td>\n",
       "      <td>3;3;3</td>\n",
       "      <td>3;3;3</td>\n",
       "      <td>3;3;3</td>\n",
       "      <td>3;3;3</td>\n",
       "    </tr>\n",
       "    <tr>\n",
       "      <th>11</th>\n",
       "      <td>11</td>\n",
       "      <td>3;3;3</td>\n",
       "      <td>3;3;3</td>\n",
       "      <td>3;3;3</td>\n",
       "      <td>3;3;3</td>\n",
       "    </tr>\n",
       "    <tr>\n",
       "      <th>12</th>\n",
       "      <td>12</td>\n",
       "      <td>3;3;3</td>\n",
       "      <td>3;3;3</td>\n",
       "      <td>3;3;3</td>\n",
       "      <td>3;3;3</td>\n",
       "    </tr>\n",
       "  </tbody>\n",
       "</table>\n",
       "</div>"
      ],
      "text/plain": [
       "    Cluster Zero-Order M-Order T-Order ProposedMethod\n",
       "0         0      1;3;3   3;3;3   3;3;3          1;3;3\n",
       "1         1      3;3;3   3;3;3   3;3;3          3;1;3\n",
       "2         2      3;3;3   3;3;3   3;3;3          3;3;3\n",
       "3         3      1;3;3   3;3;3   3;3;3          3;3;3\n",
       "4         4      3;3;3   3;3;3   3;3;3          3;3;3\n",
       "5         5      3;3;3   3;3;3   3;3;3          3;3;3\n",
       "6         6      3;3;3   3;3;3   3;3;3          3;3;3\n",
       "7         7      3;3;3   3;3;3   3;3;3          3;3;3\n",
       "8         8      3;3;3   3;3;3   3;3;3          3;3;3\n",
       "9         9      3;3;3   3;3;3   3;3;3          3;3;3\n",
       "10       10      3;3;3   3;3;3   3;3;3          3;3;3\n",
       "11       11      3;3;3   3;3;3   3;3;3          3;3;3\n",
       "12       12      3;3;3   3;3;3   3;3;3          3;3;3"
      ]
     },
     "execution_count": 3,
     "metadata": {},
     "output_type": "execute_result"
    }
   ],
   "source": [
    "dataset"
   ]
  },
  {
   "cell_type": "code",
   "execution_count": 14,
   "metadata": {},
   "outputs": [],
   "source": [
    "def get_total_score(text):\n",
    "    score = text.split(';')\n",
    "    score = [int(i) for i in score]\n",
    "    print(score)\n",
    "    return np.sum(score)"
   ]
  },
  {
   "cell_type": "code",
   "execution_count": null,
   "metadata": {},
   "outputs": [],
   "source": []
  },
  {
   "cell_type": "code",
   "execution_count": 15,
   "metadata": {},
   "outputs": [
    {
     "name": "stdout",
     "output_type": "stream",
     "text": [
      "[1, 3, 3]\n"
     ]
    },
    {
     "data": {
      "text/plain": [
       "7"
      ]
     },
     "execution_count": 15,
     "metadata": {},
     "output_type": "execute_result"
    }
   ],
   "source": [
    "get_total_score(dataset.iloc[0]['Zero-Order'])"
   ]
  },
  {
   "cell_type": "code",
   "execution_count": null,
   "metadata": {},
   "outputs": [],
   "source": []
  },
  {
   "cell_type": "code",
   "execution_count": null,
   "metadata": {},
   "outputs": [],
   "source": []
  },
  {
   "cell_type": "code",
   "execution_count": null,
   "metadata": {},
   "outputs": [],
   "source": []
  },
  {
   "cell_type": "code",
   "execution_count": null,
   "metadata": {},
   "outputs": [],
   "source": []
  }
 ],
 "metadata": {
  "kernelspec": {
   "display_name": "Python 3",
   "language": "python",
   "name": "python3"
  },
  "language_info": {
   "codemirror_mode": {
    "name": "ipython",
    "version": 3
   },
   "file_extension": ".py",
   "mimetype": "text/x-python",
   "name": "python",
   "nbconvert_exporter": "python",
   "pygments_lexer": "ipython3",
   "version": "3.6.6"
  }
 },
 "nbformat": 4,
 "nbformat_minor": 2
}
