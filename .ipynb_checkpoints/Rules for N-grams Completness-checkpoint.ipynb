{
 "cells": [
  {
   "cell_type": "code",
   "execution_count": 1,
   "metadata": {},
   "outputs": [],
   "source": [
    "import CRFTagger\n",
    "import stanza\n",
    "from spacy_stanza import StanzaLanguage\n"
   ]
  },
  {
   "cell_type": "code",
   "execution_count": 2,
   "metadata": {},
   "outputs": [
    {
     "name": "stderr",
     "output_type": "stream",
     "text": [
      "2020-10-08 14:39:23 INFO: Loading these models for language: ur (Urdu):\n",
      "=======================\n",
      "| Processor | Package |\n",
      "-----------------------\n",
      "| tokenize  | udtb    |\n",
      "| pos       | udtb    |\n",
      "| lemma     | udtb    |\n",
      "| depparse  | udtb    |\n",
      "=======================\n",
      "\n",
      "2020-10-08 14:39:23 INFO: Use device: cpu\n",
      "2020-10-08 14:39:23 INFO: Loading: tokenize\n",
      "2020-10-08 14:39:23 INFO: Loading: pos\n",
      "2020-10-08 14:39:24 INFO: Loading: lemma\n",
      "2020-10-08 14:39:24 INFO: Loading: depparse\n",
      "2020-10-08 14:39:26 INFO: Done loading processors!\n"
     ]
    }
   ],
   "source": [
    "snlp = stanza.Pipeline(lang=\"ur\")\n",
    "nlp = StanzaLanguage(snlp)\n"
   ]
  },
  {
   "cell_type": "code",
   "execution_count": 5,
   "metadata": {},
   "outputs": [],
   "source": [
    "doc = nlp(x)\n",
    "words=[]\n",
    "tgs=[]\n",
    "correct = True"
   ]
  },
  {
   "cell_type": "code",
   "execution_count": 9,
   "metadata": {},
   "outputs": [
    {
     "name": "stdout",
     "output_type": "stream",
     "text": [
      "PROPN\n"
     ]
    }
   ],
   "source": [
    "print(doc[0].pos_)"
   ]
  },
  {
   "cell_type": "code",
   "execution_count": 10,
   "metadata": {},
   "outputs": [
    {
     "name": "stdout",
     "output_type": "stream",
     "text": [
      "6\n"
     ]
    }
   ],
   "source": [
    "print(len(doc))"
   ]
  },
  {
   "cell_type": "code",
   "execution_count": null,
   "metadata": {},
   "outputs": [],
   "source": []
  },
  {
   "cell_type": "code",
   "execution_count": 14,
   "metadata": {},
   "outputs": [],
   "source": [
    "def check_ngram(ngram):\n",
    "    doc = nlp(ngram)\n",
    "    correct = True\n",
    "    if doc[0].pos_ not in ['NOUN','PROPN','ADJ']:\n",
    "        correct = False\n",
    "    elif (doc[0].pos_ == 'NOUN' or doc[0].pos_ == 'PROPN') and (doc[1].pos_== 'ADJ') and (doc[2].pos_ == 'NOUN' or doc[2].pos_ == 'PROPN'):\n",
    "        correct = False\n",
    "    elif doc[len(doc)-1].pos_ not in ['NOUN','PROPN','AA']:\n",
    "        correct = False\n",
    "    else:\n",
    "        correct = True\n",
    "    return correct\n",
    "    "
   ]
  },
  {
   "cell_type": "code",
   "execution_count": null,
   "metadata": {},
   "outputs": [],
   "source": []
  },
  {
   "cell_type": "code",
   "execution_count": 15,
   "metadata": {},
   "outputs": [],
   "source": [
    "x = 'ترکی کی شام میں فوجی کارروائی'"
   ]
  },
  {
   "cell_type": "code",
   "execution_count": 16,
   "metadata": {},
   "outputs": [
    {
     "data": {
      "text/plain": [
       "True"
      ]
     },
     "execution_count": 16,
     "metadata": {},
     "output_type": "execute_result"
    }
   ],
   "source": [
    "check_ngram(x)"
   ]
  },
  {
   "cell_type": "code",
   "execution_count": null,
   "metadata": {},
   "outputs": [],
   "source": []
  },
  {
   "cell_type": "code",
   "execution_count": 3,
   "metadata": {},
   "outputs": [
    {
     "data": {
      "text/plain": [
       "[('ترکی', 'PN'),\n",
       " ('کی', 'P'),\n",
       " ('شام', 'NN'),\n",
       " ('میں', 'P'),\n",
       " ('فوجی', 'NN'),\n",
       " ('کارروائی', 'NN')]"
      ]
     },
     "execution_count": 3,
     "metadata": {},
     "output_type": "execute_result"
    }
   ],
   "source": [
    "CRFTagger.pos_tag(x)"
   ]
  },
  {
   "cell_type": "code",
   "execution_count": 17,
   "metadata": {},
   "outputs": [],
   "source": [
    "y = 'انعقاد احتیاطی تدابیر اپنا کر ڈینگی پر قابو'"
   ]
  },
  {
   "cell_type": "code",
   "execution_count": 18,
   "metadata": {},
   "outputs": [
    {
     "data": {
      "text/plain": [
       "False"
      ]
     },
     "execution_count": 18,
     "metadata": {},
     "output_type": "execute_result"
    }
   ],
   "source": [
    "check_ngram(y)"
   ]
  },
  {
   "cell_type": "code",
   "execution_count": 5,
   "metadata": {},
   "outputs": [
    {
     "data": {
      "text/plain": [
       "[('انعقاد', 'NN'),\n",
       " ('احتیاطی', 'ADJ'),\n",
       " ('تدابیر', 'NN'),\n",
       " ('اپنا', 'GR'),\n",
       " ('کر', 'VB'),\n",
       " ('ڈینگی', 'NN'),\n",
       " ('پر', 'P'),\n",
       " ('قابو', 'NN')]"
      ]
     },
     "execution_count": 5,
     "metadata": {},
     "output_type": "execute_result"
    }
   ],
   "source": [
    "CRFTagger.pos_tag(y)"
   ]
  },
  {
   "cell_type": "code",
   "execution_count": 6,
   "metadata": {},
   "outputs": [],
   "source": [
    "z = 'ضلعی انتظامیہ نے ڈینگی کی رپورٹ'"
   ]
  },
  {
   "cell_type": "code",
   "execution_count": 7,
   "metadata": {},
   "outputs": [
    {
     "data": {
      "text/plain": [
       "[('ضلعی', 'ADJ'),\n",
       " ('انتظامیہ', 'NN'),\n",
       " ('نے', 'P'),\n",
       " ('ڈینگی', 'NN'),\n",
       " ('کی', 'P'),\n",
       " ('رپورٹ', 'NN')]"
      ]
     },
     "execution_count": 7,
     "metadata": {},
     "output_type": "execute_result"
    }
   ],
   "source": [
    "CRFTagger.pos_tag(z)"
   ]
  },
  {
   "cell_type": "code",
   "execution_count": 65,
   "metadata": {},
   "outputs": [],
   "source": [
    "l ='رواں برس کانگو'"
   ]
  },
  {
   "cell_type": "code",
   "execution_count": 66,
   "metadata": {},
   "outputs": [
    {
     "data": {
      "text/plain": [
       "[('رواں', 'ADJ'), ('برس', 'NN'), ('کانگو', 'PN')]"
      ]
     },
     "execution_count": 66,
     "metadata": {},
     "output_type": "execute_result"
    }
   ],
   "source": [
    "CRFTagger.pos_tag(l)"
   ]
  },
  {
   "cell_type": "code",
   "execution_count": 51,
   "metadata": {},
   "outputs": [
    {
     "name": "stderr",
     "output_type": "stream",
     "text": [
      "2020-10-01 16:33:40 INFO: Loading these models for language: ur (Urdu):\n",
      "=======================\n",
      "| Processor | Package |\n",
      "-----------------------\n",
      "| tokenize  | udtb    |\n",
      "| pos       | udtb    |\n",
      "| lemma     | udtb    |\n",
      "| depparse  | udtb    |\n",
      "=======================\n",
      "\n",
      "2020-10-01 16:33:40 INFO: Use device: cpu\n",
      "2020-10-01 16:33:40 INFO: Loading: tokenize\n",
      "2020-10-01 16:33:40 INFO: Loading: pos\n",
      "2020-10-01 16:33:41 INFO: Loading: lemma\n",
      "2020-10-01 16:33:41 INFO: Loading: depparse\n",
      "2020-10-01 16:33:41 INFO: Done loading processors!\n"
     ]
    }
   ],
   "source": [
    "import stanza\n",
    "from spacy_stanza import StanzaLanguage\n",
    "\n",
    "snlp = stanza.Pipeline(lang=\"ur\")\n",
    "nlp = StanzaLanguage(snlp)"
   ]
  },
  {
   "cell_type": "code",
   "execution_count": 67,
   "metadata": {},
   "outputs": [
    {
     "name": "stdout",
     "output_type": "stream",
     "text": [
      "رواں ADJ amod \n",
      "برس NOUN root \n",
      "کانگو PUNCT punct \n"
     ]
    }
   ],
   "source": [
    "doc = nlp(l)\n",
    "for token in doc:\n",
    "    print(token.text,token.pos_, token.dep_, token.ent_type_)\n"
   ]
  },
  {
   "cell_type": "code",
   "execution_count": 61,
   "metadata": {},
   "outputs": [],
   "source": [
    "for chunk in doc.noun_chunks:\n",
    "    print(chunk.text, chunk.root.text, chunk.root.dep_,chunk.root.head.text)"
   ]
  },
  {
   "cell_type": "code",
   "execution_count": 53,
   "metadata": {},
   "outputs": [
    {
     "name": "stdout",
     "output_type": "stream",
     "text": [
      "ڈپٹی NOUN compound \n",
      "کمشنر NOUN nmod \n",
      "جہلم PROPN compound \n",
      "محمد PROPN compound \n",
      "سیف PROPN compound \n",
      "انور PROPN compound \n",
      "جپہ PROPN nmod \n",
      "کی ADP case \n",
      "زیر ADP case \n",
      "صدارت NOUN obl \n",
      "ڈینگی NOUN obl \n",
      "سے ADP case \n",
      "بچاؤ VERB root \n"
     ]
    }
   ],
   "source": [
    "doc = nlp(l)\n",
    "for token in doc:\n",
    "    print(token.text,token.pos_, token.dep_, token.ent_type_)\n"
   ]
  },
  {
   "cell_type": "code",
   "execution_count": null,
   "metadata": {},
   "outputs": [],
   "source": []
  }
 ],
 "metadata": {
  "kernelspec": {
   "display_name": "Python 3",
   "language": "python",
   "name": "python3"
  },
  "language_info": {
   "codemirror_mode": {
    "name": "ipython",
    "version": 3
   },
   "file_extension": ".py",
   "mimetype": "text/x-python",
   "name": "python",
   "nbconvert_exporter": "python",
   "pygments_lexer": "ipython3",
   "version": "3.6.6"
  }
 },
 "nbformat": 4,
 "nbformat_minor": 2
}
