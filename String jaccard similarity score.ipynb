{
 "cells": [
  {
   "cell_type": "code",
   "execution_count": 1,
   "metadata": {},
   "outputs": [],
   "source": [
    "from sklearn.metrics import cohen_kappa_score\n",
    "import pandas as pd\n",
    "import sklearn\n",
    "from rouge_score import rouge_scorer\n",
    "from similarity.cosine import Cosine\n",
    "from similarity.jaccard import Jaccard"
   ]
  },
  {
   "cell_type": "code",
   "execution_count": 4,
   "metadata": {},
   "outputs": [],
   "source": [
    "def compute_similarity_cosine(text1,text2):\n",
    "    cosine = Cosine(2)\n",
    "    p0 = cosine.get_profile(text1)\n",
    "    p1 = cosine.get_profile(text2)\n",
    "    score = cosine.similarity_profiles(p0, p1)\n",
    "    return score\n",
    "def compute_similarity_jaccard(text1,text2):\n",
    "    jaccard = Jaccard(2)\n",
    "    score = jaccard.similarity(text1, text2)\n",
    "    return score\n"
   ]
  },
  {
   "cell_type": "code",
   "execution_count": 5,
   "metadata": {},
   "outputs": [],
   "source": [
    "data = pd.read_csv('labels_with_human.csv',sep='\\t',encoding='utf-8')"
   ]
  },
  {
   "cell_type": "code",
   "execution_count": 6,
   "metadata": {},
   "outputs": [],
   "source": [
    "cosine_score = []\n",
    "for index,row in data.iterrows():\n",
    "    cosine_score.append(compute_similarity_jaccard(row.ProposedMethod,row.Zainab))"
   ]
  },
  {
   "cell_type": "code",
   "execution_count": 7,
   "metadata": {},
   "outputs": [],
   "source": [
    "import numpy as np"
   ]
  },
  {
   "cell_type": "code",
   "execution_count": 8,
   "metadata": {},
   "outputs": [
    {
     "data": {
      "text/plain": [
       "0.3262635041445082"
      ]
     },
     "execution_count": 8,
     "metadata": {},
     "output_type": "execute_result"
    }
   ],
   "source": [
    "np.average(cosine_score)"
   ]
  },
  {
   "cell_type": "code",
   "execution_count": 9,
   "metadata": {},
   "outputs": [
    {
     "name": "stdout",
     "output_type": "stream",
     "text": [
      "0.257283099002556\n"
     ]
    }
   ],
   "source": [
    "cosine_score = []\n",
    "for index,row in data.iterrows():\n",
    "    cosine_score.append(compute_similarity_jaccard(row.ProposedMethod,row.Farah))\n",
    "print(np.average(cosine_score))"
   ]
  },
  {
   "cell_type": "code",
   "execution_count": 10,
   "metadata": {},
   "outputs": [
    {
     "data": {
      "text/html": [
       "<div>\n",
       "<style scoped>\n",
       "    .dataframe tbody tr th:only-of-type {\n",
       "        vertical-align: middle;\n",
       "    }\n",
       "\n",
       "    .dataframe tbody tr th {\n",
       "        vertical-align: top;\n",
       "    }\n",
       "\n",
       "    .dataframe thead th {\n",
       "        text-align: right;\n",
       "    }\n",
       "</style>\n",
       "<table border=\"1\" class=\"dataframe\">\n",
       "  <thead>\n",
       "    <tr style=\"text-align: right;\">\n",
       "      <th></th>\n",
       "      <th>Unnamed: 0</th>\n",
       "      <th>Cluster</th>\n",
       "      <th>Zero-Order</th>\n",
       "      <th>M-Order</th>\n",
       "      <th>T-Order</th>\n",
       "      <th>ProposedMethod</th>\n",
       "      <th>Farah</th>\n",
       "      <th>Zainab</th>\n",
       "    </tr>\n",
       "  </thead>\n",
       "  <tbody>\n",
       "    <tr>\n",
       "      <th>0</th>\n",
       "      <td>0</td>\n",
       "      <td>0</td>\n",
       "      <td>ترکی شام</td>\n",
       "      <td>ترک فوجی کارروائی</td>\n",
       "      <td>ترکی شام</td>\n",
       "      <td>ترکی کی شام میں فوجی کارروائی</td>\n",
       "      <td>ترکی شام کاروائی</td>\n",
       "      <td>ترکی کی شام میں فوجی کاروائی</td>\n",
       "    </tr>\n",
       "    <tr>\n",
       "      <th>1</th>\n",
       "      <td>1</td>\n",
       "      <td>1</td>\n",
       "      <td>ڈی ایچ کیو ہسپتال وہاڑی کادورہ ہسپتال</td>\n",
       "      <td>ڈی ایچ کیو ہسپتال وہاڑی کادورہ ہسپتال</td>\n",
       "      <td>ڈی ایچ کیو ہسپتال وہاڑی کادورہ ہسپتال</td>\n",
       "      <td>ڈینگی کے مریضوں</td>\n",
       "      <td>لاہور میں ڈینگی</td>\n",
       "      <td>ڈینگی کے حوالے سے ڈی سی لاہور کے دورے</td>\n",
       "    </tr>\n",
       "    <tr>\n",
       "      <th>2</th>\n",
       "      <td>2</td>\n",
       "      <td>2</td>\n",
       "      <td>ڈینگی مچھر</td>\n",
       "      <td>سی ای او ہیلتھ خانیوال</td>\n",
       "      <td>سی ای او ہیلتھ خانیوال</td>\n",
       "      <td>انعقاد احتیاطی تدابیر اپنا کر ڈینگی پر قابو</td>\n",
       "      <td>ڈینگی کی احیتاط</td>\n",
       "      <td>ڈینگی سے احتیاط</td>\n",
       "    </tr>\n",
       "    <tr>\n",
       "      <th>3</th>\n",
       "      <td>3</td>\n",
       "      <td>3</td>\n",
       "      <td>سی پیک اتھارٹی بارے</td>\n",
       "      <td>حکام</td>\n",
       "      <td>حکام</td>\n",
       "      <td>حکام سی پیک اتھارٹی</td>\n",
       "      <td>سی پیک کا قیام</td>\n",
       "      <td>سی پیک سے روزگار کے مواقع</td>\n",
       "    </tr>\n",
       "    <tr>\n",
       "      <th>4</th>\n",
       "      <td>4</td>\n",
       "      <td>4</td>\n",
       "      <td>وزیراعظم عمران خان</td>\n",
       "      <td>وزیراعظم عمران خان</td>\n",
       "      <td>وزیر اعظم عمران خان</td>\n",
       "      <td>پاکستان اور چین سی پیک</td>\n",
       "      <td>سی پیک</td>\n",
       "      <td>سی پیک</td>\n",
       "    </tr>\n",
       "    <tr>\n",
       "      <th>5</th>\n",
       "      <td>5</td>\n",
       "      <td>5</td>\n",
       "      <td>ضلعی انتظامیہ لاہور</td>\n",
       "      <td>ضلعی انتظامیہ لاہور</td>\n",
       "      <td>ضلعی انتظامیہ لاہور</td>\n",
       "      <td>ضلعی انتظامیہ نے ڈینگی کی رپورٹ</td>\n",
       "      <td>ضلعی انتظامیہ</td>\n",
       "      <td>ضلعی انتظامیہ نے ڈینگی رپورٹ جاری کردی</td>\n",
       "    </tr>\n",
       "    <tr>\n",
       "      <th>6</th>\n",
       "      <td>6</td>\n",
       "      <td>6</td>\n",
       "      <td>پریشان عمران خان</td>\n",
       "      <td>پی ٹی آئی حکومت عمران خان</td>\n",
       "      <td>پی ٹی آئی حکومت عمران خان</td>\n",
       "      <td>No title constructed</td>\n",
       "      <td>فیصل آباد میں ڈینگی</td>\n",
       "      <td>ڈینگی کیسز سامنے آنے کے بعد مقدمات درج</td>\n",
       "    </tr>\n",
       "    <tr>\n",
       "      <th>7</th>\n",
       "      <td>7</td>\n",
       "      <td>7</td>\n",
       "      <td>کشمیری عوام کیساتھ اظہار یکجہتی</td>\n",
       "      <td>طاقت کشمیری حریت پسندوں</td>\n",
       "      <td>کشمیری عوام کیساتھ اظہار یکجہتی</td>\n",
       "      <td>کشمیریوں سے اظہار یکجہتی کیلئے ریلی</td>\n",
       "      <td>اظہار یکجہتی کیلئے ریلی</td>\n",
       "      <td>کشمیریوں سے اظہار یکجہتی</td>\n",
       "    </tr>\n",
       "    <tr>\n",
       "      <th>8</th>\n",
       "      <td>8</td>\n",
       "      <td>8</td>\n",
       "      <td>پاک سری لنکن ٹی ٹونٹی کرکٹ سیریز سکیورٹی</td>\n",
       "      <td>سری لنکن</td>\n",
       "      <td>سری لنکا</td>\n",
       "      <td>No title constructed</td>\n",
       "      <td>سری لنکن ٹیم</td>\n",
       "      <td>پاکستان اور سری لنکا کے درمیان کرکٹ سیریز</td>\n",
       "    </tr>\n",
       "    <tr>\n",
       "      <th>9</th>\n",
       "      <td>9</td>\n",
       "      <td>9</td>\n",
       "      <td>محکمہ صحت ڈینگی وائرس</td>\n",
       "      <td>محکمہ صحت ڈینگی وائرس</td>\n",
       "      <td>محکمہ صحت ڈینگی وائرس</td>\n",
       "      <td>محکمہ صحت ڈینگی وائرس</td>\n",
       "      <td>ڈینگی وائرس کی روک تھام</td>\n",
       "      <td>ڈینگی کیسز میں اضافہ</td>\n",
       "    </tr>\n",
       "    <tr>\n",
       "      <th>10</th>\n",
       "      <td>10</td>\n",
       "      <td>10</td>\n",
       "      <td>خیبر پختونخوا</td>\n",
       "      <td>مزید کیسز تعداد</td>\n",
       "      <td>مزید کیسز تعداد</td>\n",
       "      <td>ڈینگی کے مریضوں کی تعداد</td>\n",
       "      <td>ڈینگی بے قابو</td>\n",
       "      <td>ڈینگی مریضوں کی تعداد میں اضافہ</td>\n",
       "    </tr>\n",
       "    <tr>\n",
       "      <th>11</th>\n",
       "      <td>11</td>\n",
       "      <td>11</td>\n",
       "      <td>ڈپٹی کمشنر محمد سیف انور جپہ</td>\n",
       "      <td>ڈپٹی کمشنر جہلم محمد سیف انور جپہ</td>\n",
       "      <td>ڈپٹی کمشنر محمد سیف انور جپہ</td>\n",
       "      <td>No title constructed</td>\n",
       "      <td>ڈینگی کا خاتمہ</td>\n",
       "      <td>ڈینگی کے خاتمے کیلۓ احتیاطی تدابیر</td>\n",
       "    </tr>\n",
       "    <tr>\n",
       "      <th>12</th>\n",
       "      <td>12</td>\n",
       "      <td>12</td>\n",
       "      <td>زیر صدارت انسداد ڈینگی</td>\n",
       "      <td>زیر صدارت انسداد ڈینگی</td>\n",
       "      <td>زیر صدارت انسداد ڈینگی</td>\n",
       "      <td>زیر صدارت انسداد ڈینگی کے حوالے</td>\n",
       "      <td>ڈینگی کی تازہ ترین صورتحال</td>\n",
       "      <td>ڈینگی کی تازہ صورتحال کا جائزہ</td>\n",
       "    </tr>\n",
       "  </tbody>\n",
       "</table>\n",
       "</div>"
      ],
      "text/plain": [
       "    Unnamed: 0  Cluster                                Zero-Order  \\\n",
       "0            0        0                                  ترکی شام   \n",
       "1            1        1     ڈی ایچ کیو ہسپتال وہاڑی کادورہ ہسپتال   \n",
       "2            2        2                                ڈینگی مچھر   \n",
       "3            3        3                       سی پیک اتھارٹی بارے   \n",
       "4            4        4                        وزیراعظم عمران خان   \n",
       "5            5        5                       ضلعی انتظامیہ لاہور   \n",
       "6            6        6                          پریشان عمران خان   \n",
       "7            7        7           کشمیری عوام کیساتھ اظہار یکجہتی   \n",
       "8            8        8  پاک سری لنکن ٹی ٹونٹی کرکٹ سیریز سکیورٹی   \n",
       "9            9        9                     محکمہ صحت ڈینگی وائرس   \n",
       "10          10       10                             خیبر پختونخوا   \n",
       "11          11       11              ڈپٹی کمشنر محمد سیف انور جپہ   \n",
       "12          12       12                    زیر صدارت انسداد ڈینگی   \n",
       "\n",
       "                                  M-Order  \\\n",
       "0                       ترک فوجی کارروائی   \n",
       "1   ڈی ایچ کیو ہسپتال وہاڑی کادورہ ہسپتال   \n",
       "2                  سی ای او ہیلتھ خانیوال   \n",
       "3                                    حکام   \n",
       "4                      وزیراعظم عمران خان   \n",
       "5                     ضلعی انتظامیہ لاہور   \n",
       "6              پی ٹی آئی حکومت عمران خان   \n",
       "7                 طاقت کشمیری حریت پسندوں   \n",
       "8                                سری لنکن   \n",
       "9                   محکمہ صحت ڈینگی وائرس   \n",
       "10                        مزید کیسز تعداد   \n",
       "11      ڈپٹی کمشنر جہلم محمد سیف انور جپہ   \n",
       "12                 زیر صدارت انسداد ڈینگی   \n",
       "\n",
       "                                  T-Order  \\\n",
       "0                                ترکی شام   \n",
       "1   ڈی ایچ کیو ہسپتال وہاڑی کادورہ ہسپتال   \n",
       "2                  سی ای او ہیلتھ خانیوال   \n",
       "3                                    حکام   \n",
       "4                     وزیر اعظم عمران خان   \n",
       "5                     ضلعی انتظامیہ لاہور   \n",
       "6              پی ٹی آئی حکومت عمران خان   \n",
       "7         کشمیری عوام کیساتھ اظہار یکجہتی   \n",
       "8                                سری لنکا   \n",
       "9                   محکمہ صحت ڈینگی وائرس   \n",
       "10                        مزید کیسز تعداد   \n",
       "11           ڈپٹی کمشنر محمد سیف انور جپہ   \n",
       "12                 زیر صدارت انسداد ڈینگی   \n",
       "\n",
       "                                 ProposedMethod                       Farah  \\\n",
       "0                 ترکی کی شام میں فوجی کارروائی            ترکی شام کاروائی   \n",
       "1                               ڈینگی کے مریضوں             لاہور میں ڈینگی   \n",
       "2   انعقاد احتیاطی تدابیر اپنا کر ڈینگی پر قابو             ڈینگی کی احیتاط   \n",
       "3                           حکام سی پیک اتھارٹی              سی پیک کا قیام   \n",
       "4                        پاکستان اور چین سی پیک                      سی پیک   \n",
       "5               ضلعی انتظامیہ نے ڈینگی کی رپورٹ               ضلعی انتظامیہ   \n",
       "6                          No title constructed        فیصل آباد میں ڈینگی   \n",
       "7           کشمیریوں سے اظہار یکجہتی کیلئے ریلی     اظہار یکجہتی کیلئے ریلی   \n",
       "8                          No title constructed                سری لنکن ٹیم   \n",
       "9                         محکمہ صحت ڈینگی وائرس     ڈینگی وائرس کی روک تھام   \n",
       "10                     ڈینگی کے مریضوں کی تعداد               ڈینگی بے قابو   \n",
       "11                         No title constructed              ڈینگی کا خاتمہ   \n",
       "12              زیر صدارت انسداد ڈینگی کے حوالے  ڈینگی کی تازہ ترین صورتحال   \n",
       "\n",
       "                                       Zainab  \n",
       "0                ترکی کی شام میں فوجی کاروائی  \n",
       "1       ڈینگی کے حوالے سے ڈی سی لاہور کے دورے  \n",
       "2                             ڈینگی سے احتیاط  \n",
       "3                   سی پیک سے روزگار کے مواقع  \n",
       "4                                      سی پیک  \n",
       "5      ضلعی انتظامیہ نے ڈینگی رپورٹ جاری کردی  \n",
       "6      ڈینگی کیسز سامنے آنے کے بعد مقدمات درج  \n",
       "7                    کشمیریوں سے اظہار یکجہتی  \n",
       "8   پاکستان اور سری لنکا کے درمیان کرکٹ سیریز  \n",
       "9                        ڈینگی کیسز میں اضافہ  \n",
       "10            ڈینگی مریضوں کی تعداد میں اضافہ  \n",
       "11         ڈینگی کے خاتمے کیلۓ احتیاطی تدابیر  \n",
       "12             ڈینگی کی تازہ صورتحال کا جائزہ  "
      ]
     },
     "execution_count": 10,
     "metadata": {},
     "output_type": "execute_result"
    }
   ],
   "source": [
    "data"
   ]
  },
  {
   "cell_type": "code",
   "execution_count": 11,
   "metadata": {},
   "outputs": [
    {
     "name": "stdout",
     "output_type": "stream",
     "text": [
      "0.2295769888130671\n"
     ]
    }
   ],
   "source": [
    "cosine_score = []\n",
    "for index,row in data.iterrows():\n",
    "    cosine_score.append(compute_similarity_jaccard(row['Zero-Order'],row.Farah))\n",
    "print(np.average(cosine_score))"
   ]
  },
  {
   "cell_type": "code",
   "execution_count": 12,
   "metadata": {},
   "outputs": [
    {
     "name": "stdout",
     "output_type": "stream",
     "text": [
      "0.18282963770415264\n"
     ]
    }
   ],
   "source": [
    "cosine_score = []\n",
    "for index,row in data.iterrows():\n",
    "    cosine_score.append(compute_similarity_jaccard(row['Zero-Order'],row.Zainab))\n",
    "print(np.average(cosine_score))"
   ]
  },
  {
   "cell_type": "code",
   "execution_count": 13,
   "metadata": {},
   "outputs": [
    {
     "name": "stdout",
     "output_type": "stream",
     "text": [
      "0.14531404113056554\n"
     ]
    }
   ],
   "source": [
    "cosine_score = []\n",
    "for index,row in data.iterrows():\n",
    "    cosine_score.append(compute_similarity_jaccard(row['M-Order'],row.Zainab))\n",
    "print(np.average(cosine_score))"
   ]
  },
  {
   "cell_type": "code",
   "execution_count": 14,
   "metadata": {},
   "outputs": [
    {
     "name": "stdout",
     "output_type": "stream",
     "text": [
      "0.2062220387187353\n"
     ]
    }
   ],
   "source": [
    "cosine_score = []\n",
    "for index,row in data.iterrows():\n",
    "    cosine_score.append(compute_similarity_jaccard(row['M-Order'],row.Farah))\n",
    "print(np.average(cosine_score))"
   ]
  },
  {
   "cell_type": "code",
   "execution_count": 15,
   "metadata": {},
   "outputs": [
    {
     "name": "stdout",
     "output_type": "stream",
     "text": [
      "0.15062719599266977\n"
     ]
    }
   ],
   "source": [
    "cosine_score = []\n",
    "for index,row in data.iterrows():\n",
    "    cosine_score.append(compute_similarity_jaccard(row['T-Order'],row.Zainab))\n",
    "print(np.average(cosine_score))"
   ]
  },
  {
   "cell_type": "code",
   "execution_count": 16,
   "metadata": {},
   "outputs": [
    {
     "name": "stdout",
     "output_type": "stream",
     "text": [
      "0.22259599034066263\n"
     ]
    }
   ],
   "source": [
    "cosine_score = []\n",
    "for index,row in data.iterrows():\n",
    "    cosine_score.append(compute_similarity_jaccard(row['T-Order'],row.Farah))\n",
    "print(np.average(cosine_score))"
   ]
  },
  {
   "cell_type": "code",
   "execution_count": null,
   "metadata": {},
   "outputs": [],
   "source": []
  }
 ],
 "metadata": {
  "kernelspec": {
   "display_name": "Python 3",
   "language": "python",
   "name": "python3"
  },
  "language_info": {
   "codemirror_mode": {
    "name": "ipython",
    "version": 3
   },
   "file_extension": ".py",
   "mimetype": "text/x-python",
   "name": "python",
   "nbconvert_exporter": "python",
   "pygments_lexer": "ipython3",
   "version": "3.6.6"
  }
 },
 "nbformat": 4,
 "nbformat_minor": 2
}
